{
 "cells": [
  {
   "cell_type": "code",
   "execution_count": 1,
   "id": "b96f4108",
   "metadata": {},
   "outputs": [
    {
     "name": "stdout",
     "output_type": "stream",
     "text": [
      "[40820, 229215.96496815287, 3931963.428809921, 100, 16477.0, 487261162]\n"
     ]
    }
   ],
   "source": [
    "import numpy as np\n",
    "import pandas as pd\n",
    "\n",
    "# load the data into a data frame\n",
    "df = pd.read_csv(\"zuwendungen-berlin.csv.gz\")\n",
    "df.sample(n=10)\n",
    "\n",
    "x = [df.Betrag.count(),df.Betrag.mean(),df.Betrag.std(),df.Betrag.min(),df.Betrag.median(),df.Betrag.max()]\n",
    "print(x)"
   ]
  },
  {
   "cell_type": "code",
   "execution_count": 2,
   "id": "d30c9054",
   "metadata": {},
   "outputs": [
    {
     "name": "stdout",
     "output_type": "stream",
     "text": [
      "617                                   BDH Spandau e. V.\n",
      "3021                                Fritz-Karsen-Schule\n",
      "6210                  Rudolf Steiner Schule Berlin e.V.\n",
      "6771    Sozialverband Deutschland, Landesverband Berlin\n",
      "8743                                      formDDR e. V.\n",
      "Name: Name, dtype: object\n"
     ]
    }
   ],
   "source": [
    "import numpy as np\n",
    "import pandas as pd\n",
    "\n",
    "# load the data into a data frame\n",
    "df = pd.read_csv(\"zuwendungen-berlin.csv.gz\")\n",
    "df.sample(n=10)\n",
    "\n",
    "    # get grouped sum\n",
    "x = df.groupby( 'Name', as_index=False ).sum()\n",
    "    # return values where sum is 250 Euro\n",
    "print (x[ x[\"Betrag\"] == 250 ]['Name'])\n"
   ]
  },
  {
   "cell_type": "code",
   "execution_count": 3,
   "id": "58220da8",
   "metadata": {},
   "outputs": [
    {
     "name": "stdout",
     "output_type": "stream",
     "text": [
      "min            500.0\n",
      "median      115557.5\n",
      "max       41852102.0\n",
      "Name: Wissenschaft, dtype: float64\n"
     ]
    }
   ],
   "source": [
    "values = df.groupby(['Politikbereich'])['Betrag'].agg(['min','median','max'])\n",
    "    \n",
    "\n",
    "print(values.loc['Wissenschaft'])\n"
   ]
  },
  {
   "cell_type": "code",
   "execution_count": 4,
   "id": "377c20b6",
   "metadata": {},
   "outputs": [
    {
     "name": "stdout",
     "output_type": "stream",
     "text": [
      "Index(['U5', 'U2', 'U1', 'U6', 'U8', 'U7', 'U9', 'U3', 'U4'], dtype='object', name='ubahn')\n"
     ]
    }
   ],
   "source": [
    "df['ubahn'] = df['Zweck'].str.extract('(U[1-9])')\n",
    "    \n",
    "transportation=df[df['Politikbereich']=='Verkehr'].groupby(['ubahn'])['Betrag'].agg(['sum'])\n",
    "    \n",
    "transport_expense= transportation.sort_values(by='sum',ascending=False).index\n",
    "print(transport_expense)\n"
   ]
  },
  {
   "cell_type": "code",
   "execution_count": null,
   "id": "2a0218f8",
   "metadata": {},
   "outputs": [],
   "source": []
  }
 ],
 "metadata": {
  "kernelspec": {
   "display_name": "Python 3 (ipykernel)",
   "language": "python",
   "name": "python3"
  },
  "language_info": {
   "codemirror_mode": {
    "name": "ipython",
    "version": 3
   },
   "file_extension": ".py",
   "mimetype": "text/x-python",
   "name": "python",
   "nbconvert_exporter": "python",
   "pygments_lexer": "ipython3",
   "version": "3.9.12"
  }
 },
 "nbformat": 4,
 "nbformat_minor": 5
}
